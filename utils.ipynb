{
  "nbformat": 4,
  "nbformat_minor": 0,
  "metadata": {
    "colab": {
      "name": "utils.ipynb",
      "provenance": [],
      "collapsed_sections": [],
      "include_colab_link": true
    },
    "kernelspec": {
      "name": "python3",
      "display_name": "Python 3"
    }
  },
  "cells": [
    {
      "cell_type": "markdown",
      "metadata": {
        "id": "view-in-github",
        "colab_type": "text"
      },
      "source": [
        "<a href=\"https://colab.research.google.com/github/aidagh/Action-Recognition/blob/main/utils.ipynb\" target=\"_parent\"><img src=\"https://colab.research.google.com/assets/colab-badge.svg\" alt=\"Open In Colab\"/></a>"
      ]
    },
    {
      "cell_type": "code",
      "metadata": {
        "id": "yIv9ocyArmUA"
      },
      "source": [
        "import csv\n",
        "import cv2\n",
        "import numpy as np\n",
        "import matplotlib.pyplot as plt\n",
        "import os\n",
        "import pandas as pd\n",
        "import time\n",
        "import shutil"
      ],
      "execution_count": null,
      "outputs": []
    },
    {
      "cell_type": "code",
      "metadata": {
        "colab": {
          "base_uri": "https://localhost:8080/"
        },
        "id": "iKOWtLwHzQTA",
        "outputId": "9804892d-a7ca-483f-a6e2-a59b79993dcf"
      },
      "source": [
        "from google.colab import drive\n",
        "drive.mount('/content/drive')"
      ],
      "execution_count": null,
      "outputs": [
        {
          "output_type": "stream",
          "text": [
            "Mounted at /content/drive\n"
          ],
          "name": "stdout"
        }
      ]
    },
    {
      "cell_type": "code",
      "metadata": {
        "id": "P8MmYd6ozZe5"
      },
      "source": [
        "shutil.unpack_archive('drive/My Drive/resnet50-reports-CS.zip',extract_dir='resnet50_cs')"
      ],
      "execution_count": null,
      "outputs": []
    },
    {
      "cell_type": "code",
      "metadata": {
        "id": "WRabWkDYzZiL"
      },
      "source": [
        "shutil.unpack_archive('drive/My Drive/resnet50-models-CS.zip',extract_dir='resnet50_cs_models')"
      ],
      "execution_count": null,
      "outputs": []
    },
    {
      "cell_type": "code",
      "metadata": {
        "id": "uuziG9-PzZlo"
      },
      "source": [
        "shutil.unpack_archive('drive/My Drive/resnet50-reports-CV.zip',extract_dir='resnet50_cv')"
      ],
      "execution_count": null,
      "outputs": []
    },
    {
      "cell_type": "code",
      "metadata": {
        "id": "0FeuWjzWz5BH"
      },
      "source": [
        "shutil.unpack_archive('drive/My Drive/resnet50-models-CV.zip',extract_dir='resnet50_cv_models')"
      ],
      "execution_count": null,
      "outputs": []
    },
    {
      "cell_type": "code",
      "metadata": {
        "id": "WdPT47zB6fUk"
      },
      "source": [
        "shutil.unpack_archive('drive/My Drive/rnn-models-CS-full.zip',extract_dir='rnn_cs')\n",
        "shutil.unpack_archive('drive/My Drive/rnn-models-CV-full.zip',extract_dir='rnn_cv')"
      ],
      "execution_count": null,
      "outputs": []
    },
    {
      "cell_type": "code",
      "metadata": {
        "id": "4WfzTuwm_sDp"
      },
      "source": [
        "shutil.unpack_archive('drive/My Drive/rnn-reports-CS-4.zip',extract_dir='rnn_cs')\n",
        "shutil.unpack_archive('drive/My Drive/rnn-reports-CS-8.zip',extract_dir='rnn_cs_8')\n",
        "shutil.unpack_archive('drive/My Drive/rnn-reports-CS-full.zip',extract_dir='rnn_cs_full')\n",
        "for r,d,f in os.walk('rnn_cs_8'):\n",
        "  for file in f:\n",
        "    shutil.copy(os.path.join(r,file),'rnn_cs/{}{}.csv'.format(file[:-5],str(int(file[5])+4)))\n",
        "for r,d,f in os.walk('rnn_cs_full'):\n",
        "  for file in f:\n",
        "    ind1=file.index('epoch')\n",
        "    ind2=file.index('.csv')\n",
        "    epoch_num=int(file[ind1+5:ind2])\n",
        "    shutil.copy(os.path.join(r,file),'rnn_cs/{}{}.csv'.format(file[:ind1+5],str(epoch_num+8)))"
      ],
      "execution_count": null,
      "outputs": []
    },
    {
      "cell_type": "code",
      "metadata": {
        "id": "4eK9o2tTDXEH"
      },
      "source": [
        "shutil.unpack_archive('drive/My Drive/rnn-reports-CV-4.zip',extract_dir='rnn_cv')\n",
        "shutil.unpack_archive('drive/My Drive/rnn-reports-CV-full.zip',extract_dir='rnn_cv_full')\n",
        "for r,d,f in os.walk('rnn_cv_full'):\n",
        "  for file in f:\n",
        "    ind1=file.index('epoch')\n",
        "    ind2=file.index('.csv')\n",
        "    epoch_num=int(file[ind1+5:ind2])\n",
        "    shutil.copy(os.path.join(r,file),'rnn_cv/{}{}.csv'.format(file[:ind1+5],str(epoch_num+4)))"
      ],
      "execution_count": null,
      "outputs": []
    },
    {
      "cell_type": "code",
      "metadata": {
        "id": "oRqkMBJ4739s"
      },
      "source": [
        "!mkdir 'plots'"
      ],
      "execution_count": null,
      "outputs": []
    },
    {
      "cell_type": "code",
      "metadata": {
        "id": "UPSdBprT2-W3"
      },
      "source": [
        "res_cs=pd.read_csv('/content/resnet50_cs_models/VA-CNN/NTU/VA/0_log.csv')\n",
        "res_cs_acc=[]\n",
        "res_cs_val_acc=[]\n",
        "res_cs_loss=[]\n",
        "res_cs_val_loss=[]\n",
        "for index, item in res_cs.iterrows():\n",
        "  ind1=res_cs['acc'][0].index('tensor')\n",
        "  ind2=res_cs['acc'][0].index('device')\n",
        "  res_cs_acc.append(float(res_cs['acc'][index][ind1+7:ind2-2]))\n",
        "  ####\n",
        "  ind1=res_cs['val_acc'][0].index('tensor')\n",
        "  ind2=res_cs['val_acc'][0].index('device')\n",
        "  res_cs_val_acc.append(float(res_cs['val_acc'][index][ind1+7:ind2-2]))\n",
        "  ####\n",
        "  res_cs_loss.append(float(res_cs['loss'][index]))\n",
        "  ####\n",
        "  res_cs_val_loss.append(float(res_cs['val_loss'][index]))"
      ],
      "execution_count": null,
      "outputs": []
    },
    {
      "cell_type": "code",
      "metadata": {
        "id": "SRsWD045-6s6"
      },
      "source": [
        ""
      ],
      "execution_count": null,
      "outputs": []
    },
    {
      "cell_type": "code",
      "metadata": {
        "id": "I8u6MiwJ6vD0"
      },
      "source": [
        "for ind,item in enumerate(['res_cs_acc','res_cs_val_acc','res_cs_loss','res_cs_val_loss']):\n",
        "  plt.figure(ind+1)\n",
        "  plt.plot([j+1 for j in range(len(globals()[item]))],globals()[item],)\n",
        "  plt.title(item)\n",
        "  plt.xlabel('Epochs')\n",
        "  if ind==0 or ind==1:\n",
        "    plt.ylabel('Accuracy')\n",
        "  else:\n",
        "    plt.ylabel('Loss')\n",
        "  plt.grid()\n",
        "  plt.savefig('plots/{}.jpg'.format(item))"
      ],
      "execution_count": null,
      "outputs": []
    },
    {
      "cell_type": "code",
      "metadata": {
        "id": "3l9FOOht--Ey"
      },
      "source": [
        "res_cv=pd.read_csv('/content/resnet50_cv_models/VA-CNN/NTU/VA/0_log.csv')\n",
        "res_cv_acc=[]\n",
        "res_cv_val_acc=[]\n",
        "res_cv_loss=[]\n",
        "res_cv_val_loss=[]\n",
        "for index, item in res_cv.iterrows():\n",
        "  ind1=res_cv['acc'][0].index('tensor')\n",
        "  ind2=res_cv['acc'][0].index('device')\n",
        "  res_cv_acc.append(float(res_cv['acc'][index][ind1+7:ind2-2]))\n",
        "  ####\n",
        "  ind1=res_cv['val_acc'][0].index('tensor')\n",
        "  ind2=res_cv['val_acc'][0].index('device')\n",
        "  res_cv_val_acc.append(float(res_cv['val_acc'][index][ind1+7:ind2-2]))\n",
        "  ####\n",
        "  res_cv_loss.append(float(res_cv['loss'][index]))\n",
        "  ####\n",
        "  res_cv_val_loss.append(float(res_cv['val_loss'][index]))"
      ],
      "execution_count": null,
      "outputs": []
    },
    {
      "cell_type": "code",
      "metadata": {
        "id": "nAALzHS5_bqr"
      },
      "source": [
        "for ind,item in enumerate(['res_cv_acc','res_cv_val_acc','res_cv_loss','res_cv_val_loss']):\n",
        "  plt.figure(ind+1)\n",
        "  plt.plot([j+1 for j in range(len(globals()[item]))],globals()[item],)\n",
        "  plt.title(item)\n",
        "  plt.xlabel('Epochs')\n",
        "  if ind==0 or ind==1:\n",
        "    plt.ylabel('Accuracy')\n",
        "  else:\n",
        "    plt.ylabel('Loss')\n",
        "  plt.grid()\n",
        "  plt.savefig('plots/{}.jpg'.format(item))"
      ],
      "execution_count": null,
      "outputs": []
    },
    {
      "cell_type": "code",
      "metadata": {
        "id": "yxO3JfFl2Yvq"
      },
      "source": [
        ""
      ],
      "execution_count": null,
      "outputs": []
    },
    {
      "cell_type": "code",
      "metadata": {
        "id": "zDVgntvW2ZJ0"
      },
      "source": [
        "rnn_cs_acc=[]\n",
        "rnn_cs_val_acc=[]\n",
        "rnn_cs_loss=[]\n",
        "rnn_cs_val_loss=[]\n",
        "for i in range(1,135):\n",
        "  with open('rnn_cs/epoch{}.csv'.format(i),mode='r',newline='') as csv_file:\n",
        "      csvreader = csv.reader(csv_file)\n",
        "      for ind,row in enumerate(csvreader):\n",
        "        if ind==0:\n",
        "          rnn_cs_val_loss.append(float(row[1]))\n",
        "        elif ind==2:\n",
        "          rnn_cs_loss.append(float(row[1]))\n",
        "        elif ind==1:\n",
        "          rnn_cs_val_acc.append(float(row[1])) \n",
        "        elif ind==3:\n",
        "          rnn_cs_acc.append(float(row[1]))  \n",
        "\n"
      ],
      "execution_count": null,
      "outputs": []
    },
    {
      "cell_type": "code",
      "metadata": {
        "id": "QW6hB8PpHk8g"
      },
      "source": [
        "for ind,item in enumerate(['rnn_cs_acc','rnn_cs_val_acc','rnn_cs_loss','rnn_cs_val_loss']):\n",
        "  plt.figure(ind+1)\n",
        "  plt.plot([j+1 for j in range(len(globals()[item]))],globals()[item],)\n",
        "  plt.title(item)\n",
        "  plt.xlabel('Epochs')\n",
        "  if ind==0 or ind==1:\n",
        "    plt.ylabel('Accuracy')\n",
        "  else:\n",
        "    plt.ylabel('Loss')\n",
        "  plt.grid()\n",
        "  plt.savefig('plots/{}.jpg'.format(item))"
      ],
      "execution_count": null,
      "outputs": []
    },
    {
      "cell_type": "code",
      "metadata": {
        "colab": {
          "base_uri": "https://localhost:8080/",
          "height": 1000
        },
        "id": "lQAxOD3lIb7N",
        "outputId": "245dd9fb-f37b-49ee-e83a-f99a1e2f3a5b"
      },
      "source": [
        "for ind,item in enumerate(['rnn_cv_acc','rnn_cv_val_acc','rnn_cv_loss','rnn_cv_val_loss']):\n",
        "  plt.figure(ind+1)\n",
        "  plt.plot([j+1 for j in range(len(globals()[item]))],globals()[item],)\n",
        "  plt.title(item)\n",
        "  plt.xlabel('Epochs')\n",
        "  if ind==0 or ind==1:\n",
        "    plt.ylabel('Accuracy')\n",
        "  else:\n",
        "    plt.ylabel('Loss')\n",
        "  plt.grid()\n",
        "  plt.savefig('plots/{}.jpg'.format(item))"
      ],
      "execution_count": null,
      "outputs": [
        {
          "output_type": "display_data",
          "data": {
            "image/png": "[encoded data removed]",
            "text/plain": [
              "<Figure size 432x288 with 1 Axes>"
            ]
          },
          "metadata": {
            "tags": [],
            "needs_background": "light"
          }
        },
        {
          "output_type": "display_data",
          "data": {
            "image/png": "[encoded data removed]",
            "text/plain": [
              "<Figure size 432x288 with 1 Axes>"
            ]
          },
          "metadata": {
            "tags": [],
            "needs_background": "light"
          }
        },
        {
          "output_type": "display_data",
          "data": {
            "image/png": "[encoded data removed]",
            "text/plain": [
              "<Figure size 432x288 with 1 Axes>"
            ]
          },
          "metadata": {
            "tags": [],
            "needs_background": "light"
          }
        },
        {
          "output_type": "display_data",
          "data": {
            "image/png": "[encoded data removed]",
            "text/plain": [
              "<Figure size 432x288 with 1 Axes>"
            ]
          },
          "metadata": {
            "tags": [],
            "needs_background": "light"
          }
        }
      ]
    },
    {
      "cell_type": "code",
      "metadata": {
        "id": "olpF2L9EIRFV"
      },
      "source": [
        "rnn_cv_acc=[]\n",
        "rnn_cv_val_acc=[]\n",
        "rnn_cv_loss=[]\n",
        "rnn_cv_val_loss=[]\n",
        "for i in range(1,125):\n",
        "  with open('rnn_cv/epoch{}.csv'.format(i),mode='r',newline='') as csv_file:\n",
        "      csvreader = csv.reader(csv_file)\n",
        "      for ind,row in enumerate(csvreader):\n",
        "        if ind==0:\n",
        "          rnn_cv_val_loss.append(float(row[1]))\n",
        "        elif ind==2:\n",
        "          rnn_cv_loss.append(float(row[1]))\n",
        "        elif ind==1:\n",
        "          rnn_cv_val_acc.append(float(row[1])) \n",
        "        elif ind==3:\n",
        "          rnn_cv_acc.append(float(row[1]))  \n",
        "\n"
      ],
      "execution_count": null,
      "outputs": []
    },
    {
      "cell_type": "code",
      "metadata": {
        "colab": {
          "base_uri": "https://localhost:8080/",
          "height": 35
        },
        "id": "60EmMPDqIll2",
        "outputId": "ecef0cab-ef53-4da2-ce00-2dc714aab93c"
      },
      "source": [
        "shutil.make_archive('plots','zip','plots')"
      ],
      "execution_count": null,
      "outputs": [
        {
          "output_type": "execute_result",
          "data": {
            "application/vnd.google.colaboratory.intrinsic+json": {
              "type": "string"
            },
            "text/plain": [
              "'/content/plots.zip'"
            ]
          },
          "metadata": {
            "tags": []
          },
          "execution_count": 84
        }
      ]
    }
  ]
}